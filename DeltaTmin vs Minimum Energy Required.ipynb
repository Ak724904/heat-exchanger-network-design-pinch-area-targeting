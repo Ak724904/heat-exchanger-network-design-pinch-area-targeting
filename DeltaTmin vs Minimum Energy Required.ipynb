{
 "cells": [
  {
   "cell_type": "code",
   "execution_count": 1,
   "metadata": {},
   "outputs": [],
   "source": [
    "import pandas as pd\n",
    "import numpy as np\n",
    "import matplotlib.pyplot as plt"
   ]
  },
  {
   "cell_type": "code",
   "execution_count": 2,
   "metadata": {},
   "outputs": [],
   "source": [
    "table1=pd.read_excel('HeatExchangerNetwork.xlsx')\n",
    "table1.set_index(\"Stream Number\",inplace=True)\n",
    "table1[\"Stream Type\"]=np.where(table1[\"Ts\"]>table1[\"Tt\"],\"HOT\",\"COLD\") \n",
    "table1[\"FCp\"]=np.where(table1[\"Stream Type\"]==\"HOT\",table1[\"FCp\"]-(2*table1[\"FCp\"]),table1[\"FCp\"]) \n",
    "Tmin=np.linspace(0.5,100,200)\n",
    "pinch=[]\n",
    "min_hot_utility=[]\n",
    "min_cold_utility=[]\n",
    "for tmin in Tmin:\n",
    "    table1[\"Stream Type\"]=np.where(table1[\"Ts\"]>table1[\"Tt\"],\"HOT\",\"COLD\") \n",
    "    table1[\"FCp\"]=np.where(table1[\"Stream Type\"]==\"HOT\",table1[\"FCp\"]-(2*table1[\"FCp\"]),table1[\"FCp\"]) \n",
    "    hot_streams=table1[table1[\"Stream Type\"]==\"HOT\"]\n",
    "    cold_streams=table1[table1[\"Stream Type\"]==\"COLD\"]\n",
    "    temp_left=cold_streams[\"Ts\"].append(cold_streams[\"Tt\"]).append(hot_streams[\"Ts\"]-tmin).append(hot_streams[\"Tt\"]-tmin).sort_values(ascending=False) \n",
    "    temp_left=list(dict.fromkeys(temp_left)) #this will drop duplicates\n",
    "    temp_right=hot_streams[\"Ts\"].append(hot_streams[\"Tt\"]).append(cold_streams[\"Ts\"]+tmin).append(cold_streams[\"Tt\"]+tmin).sort_values(ascending=False) \n",
    "    temp_right=list(dict.fromkeys(temp_right)) #this will drop duplicates\n",
    "    k=[i for i in range(len(temp_right))] \n",
    "    problem_table=pd.DataFrame()\n",
    "    problem_table[\"Network\"]=[i for i in range(len(temp_right))]\n",
    "    problem_table[\"Network\"]=problem_table[\"Network\"].astype(str)\n",
    "    problem_table[\"Sub\"]=np.repeat(\"SN\",len(temp_right))\n",
    "    problem_table['Subnetwork'] = problem_table['Sub']+problem_table[\"Network\"]\n",
    "    problem_table=problem_table.drop([\"Sub\",\"Network\"],axis=1)\n",
    "    problem_table[\"Tleft\"]=temp_left\n",
    "    problem_table[\"Tright\"]=temp_right\n",
    "    streams_involved=np.zeros((len(problem_table),len(table1)+1),dtype='int')\n",
    "    for i in range(len(problem_table)):\n",
    "        for j in range(len(cold_streams)):\n",
    "            z=np.where(cold_streams.iloc[j][\"Ts\"]<=problem_table.iloc[i][\"Tleft\"]<cold_streams.iloc[j][\"Tt\"],cold_streams.iloc[j].name,0)\n",
    "            streams_involved[i][z]=z\n",
    "        for k in range(len(hot_streams)):\n",
    "            y=np.where(hot_streams.iloc[k][\"Tt\"]<=problem_table.iloc[i][\"Tright\"]<hot_streams.iloc[k][\"Ts\"],hot_streams.iloc[k].name,0)\n",
    "            streams_involved[i][y]=y\n",
    "    problem_table[\"Streams Involved\"]=[streams_involved[i] for i in range(len(problem_table))] \n",
    "    difference=[0]\n",
    "    for i in range(1,len(problem_table)):\n",
    "        difference.append(problem_table[\"Tleft\"][i-1]-problem_table[\"Tleft\"][i])\n",
    "    problem_table[\"Temperature Difference\"]=difference\n",
    "    k=np.zeros(len(problem_table))\n",
    "    for i in range(len(problem_table)):\n",
    "        streams=np.extract(problem_table[\"Streams Involved\"][i]!=0, problem_table[\"Streams Involved\"][i]) \n",
    "        sum=0\n",
    "        n=len(streams)\n",
    "        for n in range(len(streams)):\n",
    "            sum=sum+table1.loc[streams[n]][\"FCp\"] \n",
    "        k[i]=sum\n",
    "    problem_table[\"Summation of FCp\"]=k\n",
    "    problem_table[\"Deficit\"]=problem_table[\"Summation of FCp\"]*problem_table[\"Temperature Difference\"]\n",
    "    x=[-problem_table[\"Deficit\"].cumsum()[i-1] for i in range(1,len(problem_table))]\n",
    "    x=np.array(x)\n",
    "    y=[0]\n",
    "    y=np.array(y)\n",
    "    z=np.concatenate((y,x))\n",
    "    problem_table[\"Accumulated Input\"]=z \n",
    "    problem_table[\"Accumulated Output\"]=-problem_table[\"Deficit\"].cumsum() \n",
    "    problem_table[\"Heat Flows Input\"]=abs(problem_table[\"Accumulated Output\"].min())+problem_table[\"Accumulated Input\"]\n",
    "    problem_table[\"Heat Flows Output\"]=abs(problem_table[\"Accumulated Output\"].min())+problem_table[\"Accumulated Output\"] \n",
    "    pinch_temp=problem_table[problem_table[\"Heat Flows Output\"]==0.0][\"Tright\"]\n",
    "    pinch_temp=pinch_temp.values\n",
    "    pinch_temp=pinch_temp[0]\n",
    "    minimum_hot_utility=problem_table.iloc[0][\"Heat Flows Input\"] \n",
    "    minimum_cold_utility=problem_table.iloc[-1][\"Heat Flows Output\"] \n",
    "    pinch.append(pinch_temp)\n",
    "    min_hot_utility.append(minimum_hot_utility)\n",
    "    min_cold_utility.append(minimum_cold_utility)"
   ]
  },
  {
   "cell_type": "code",
   "execution_count": 3,
   "metadata": {
    "scrolled": true
   },
   "outputs": [],
   "source": [
    "threshold=pd.DataFrame()\n",
    "threshold[\"DeltaTmin\"]=Tmin\n",
    "threshold[\"Pinch Temperature\"]=pinch\n",
    "threshold[\"Minimum Hot Utility\"]=min_hot_utility\n",
    "threshold[\"Minimum Cold Utility\"]=min_cold_utility"
   ]
  },
  {
   "cell_type": "code",
   "execution_count": 4,
   "metadata": {},
   "outputs": [],
   "source": [
    "#We are taking only odd entries of the table because even values displayed here are wrong\n",
    "cold_utility=[]\n",
    "temp=[]\n",
    "hot_utility=[]\n",
    "for n in range(1,201,2):\n",
    "    cold_utility.append(threshold.iloc[n][\"Minimum Cold Utility\"])\n",
    "    hot_utility.append(threshold.iloc[n][\"Minimum Hot Utility\"])\n",
    "    temp.append((n+1)/2)"
   ]
  },
  {
   "cell_type": "code",
   "execution_count": 5,
   "metadata": {},
   "outputs": [],
   "source": [
    "temp=np.array(temp)\n",
    "temp=temp.reshape(-1,1)  \n",
    "cold_utility=np.array(cold_utility)\n",
    "cold_utility=cold_utility.reshape(-1,1) \n",
    "hot_utility=np.array(hot_utility)\n",
    "hot_utility=hot_utility.reshape(-1,1)"
   ]
  },
  {
   "cell_type": "code",
   "execution_count": 10,
   "metadata": {},
   "outputs": [],
   "source": [
    "def Utility_DeltaTmin_graph():\n",
    "    plt.figure(figsize=(10,10))\n",
    "    plt.plot(temp,cold_utility,color='blue',label='Minimum Cold Utility Required')\n",
    "    plt.plot(temp,hot_utility,color='red',label='Minimum Hot Utility Required')\n",
    "    plt.plot(temp,cold_utility+hot_utility,color='black',label='Minimum Total Utility Required')\n",
    "    plt.xlabel(\"DeltaTmin(°C)\")\n",
    "    plt.ylabel(\"Utility usage\")\n",
    "    plt.legend()\n",
    "    plt.show() "
   ]
  },
  {
   "cell_type": "code",
   "execution_count": 11,
   "metadata": {},
   "outputs": [
    {
     "data": {
      "image/png": "[encoded data removed]",
      "text/plain": [
       "<Figure size 720x720 with 1 Axes>"
      ]
     },
     "metadata": {
      "needs_background": "light"
     },
     "output_type": "display_data"
    }
   ],
   "source": [
    "Utility_DeltaTmin_graph()"
   ]
  },
  {
   "cell_type": "code",
   "execution_count": 17,
   "metadata": {},
   "outputs": [
    {
     "data": {
      "text/html": [
       "<div>\n",
       "<style scoped>\n",
       "    .dataframe tbody tr th:only-of-type {\n",
       "        vertical-align: middle;\n",
       "    }\n",
       "\n",
       "    .dataframe tbody tr th {\n",
       "        vertical-align: top;\n",
       "    }\n",
       "\n",
       "    .dataframe thead th {\n",
       "        text-align: right;\n",
       "    }\n",
       "</style>\n",
       "<table border=\"1\" class=\"dataframe\">\n",
       "  <thead>\n",
       "    <tr style=\"text-align: right;\">\n",
       "      <th></th>\n",
       "      <th>DeltaTmin</th>\n",
       "      <th>Pinch Temperature</th>\n",
       "      <th>Minimum Hot Utility</th>\n",
       "      <th>Minimum Cold Utility</th>\n",
       "    </tr>\n",
       "  </thead>\n",
       "  <tbody>\n",
       "    <tr>\n",
       "      <th>1</th>\n",
       "      <td>1.0</td>\n",
       "      <td>101.0</td>\n",
       "      <td>217.553</td>\n",
       "      <td>0.000</td>\n",
       "    </tr>\n",
       "    <tr>\n",
       "      <th>3</th>\n",
       "      <td>2.0</td>\n",
       "      <td>102.0</td>\n",
       "      <td>217.553</td>\n",
       "      <td>0.000</td>\n",
       "    </tr>\n",
       "    <tr>\n",
       "      <th>5</th>\n",
       "      <td>3.0</td>\n",
       "      <td>103.0</td>\n",
       "      <td>217.553</td>\n",
       "      <td>0.000</td>\n",
       "    </tr>\n",
       "    <tr>\n",
       "      <th>7</th>\n",
       "      <td>4.0</td>\n",
       "      <td>104.0</td>\n",
       "      <td>217.553</td>\n",
       "      <td>0.000</td>\n",
       "    </tr>\n",
       "    <tr>\n",
       "      <th>9</th>\n",
       "      <td>5.0</td>\n",
       "      <td>105.0</td>\n",
       "      <td>217.553</td>\n",
       "      <td>0.000</td>\n",
       "    </tr>\n",
       "    <tr>\n",
       "      <th>...</th>\n",
       "      <td>...</td>\n",
       "      <td>...</td>\n",
       "      <td>...</td>\n",
       "      <td>...</td>\n",
       "    </tr>\n",
       "    <tr>\n",
       "      <th>191</th>\n",
       "      <td>96.0</td>\n",
       "      <td>246.0</td>\n",
       "      <td>336.815</td>\n",
       "      <td>119.262</td>\n",
       "    </tr>\n",
       "    <tr>\n",
       "      <th>193</th>\n",
       "      <td>97.0</td>\n",
       "      <td>247.0</td>\n",
       "      <td>339.712</td>\n",
       "      <td>122.159</td>\n",
       "    </tr>\n",
       "    <tr>\n",
       "      <th>195</th>\n",
       "      <td>98.0</td>\n",
       "      <td>248.0</td>\n",
       "      <td>342.609</td>\n",
       "      <td>125.056</td>\n",
       "    </tr>\n",
       "    <tr>\n",
       "      <th>197</th>\n",
       "      <td>99.0</td>\n",
       "      <td>249.0</td>\n",
       "      <td>345.506</td>\n",
       "      <td>127.953</td>\n",
       "    </tr>\n",
       "    <tr>\n",
       "      <th>199</th>\n",
       "      <td>100.0</td>\n",
       "      <td>250.0</td>\n",
       "      <td>348.403</td>\n",
       "      <td>130.850</td>\n",
       "    </tr>\n",
       "  </tbody>\n",
       "</table>\n",
       "<p>100 rows × 4 columns</p>\n",
       "</div>"
      ],
      "text/plain": [
       "     DeltaTmin  Pinch Temperature  Minimum Hot Utility  Minimum Cold Utility\n",
       "1          1.0              101.0              217.553                 0.000\n",
       "3          2.0              102.0              217.553                 0.000\n",
       "5          3.0              103.0              217.553                 0.000\n",
       "7          4.0              104.0              217.553                 0.000\n",
       "9          5.0              105.0              217.553                 0.000\n",
       "..         ...                ...                  ...                   ...\n",
       "191       96.0              246.0              336.815               119.262\n",
       "193       97.0              247.0              339.712               122.159\n",
       "195       98.0              248.0              342.609               125.056\n",
       "197       99.0              249.0              345.506               127.953\n",
       "199      100.0              250.0              348.403               130.850\n",
       "\n",
       "[100 rows x 4 columns]"
      ]
     },
     "execution_count": 17,
     "metadata": {},
     "output_type": "execute_result"
    }
   ],
   "source": [
    "final_dataframe=threshold.iloc[1::2]\n",
    "final_dataframe"
   ]
  },
  {
   "cell_type": "code",
   "execution_count": 18,
   "metadata": {},
   "outputs": [],
   "source": [
    "final_dataframe.to_excel(\"DeltaTmin_vs_MinimumEnergyRequired.xlsx\") "
   ]
  },
  {
   "cell_type": "code",
   "execution_count": null,
   "metadata": {},
   "outputs": [],
   "source": []
  }
 ],
 "metadata": {
  "kernelspec": {
   "display_name": "Python 3",
   "language": "python",
   "name": "python3"
  },
  "language_info": {
   "codemirror_mode": {
    "name": "ipython",
    "version": 3
   },
   "file_extension": ".py",
   "mimetype": "text/x-python",
   "name": "python",
   "nbconvert_exporter": "python",
   "pygments_lexer": "ipython3",
   "version": "3.8.3"
  }
 },
 "nbformat": 4,
 "nbformat_minor": 2
}
