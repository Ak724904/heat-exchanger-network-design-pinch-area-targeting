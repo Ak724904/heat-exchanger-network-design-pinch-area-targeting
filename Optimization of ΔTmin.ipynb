{
 "cells": [
  {
   "cell_type": "markdown",
   "metadata": {},
   "source": [
    "Importing Requisite Libraries"
   ]
  },
  {
   "cell_type": "code",
   "execution_count": 1,
   "metadata": {},
   "outputs": [],
   "source": [
    "import pandas as pd\n",
    "import numpy as np\n",
    "import matplotlib.pyplot as plt\n",
    "from scipy import interpolate\n",
    "import math"
   ]
  },
  {
   "cell_type": "markdown",
   "metadata": {},
   "source": [
    "Prompting the user to enter Overall Heat Transfer Coefficient"
   ]
  },
  {
   "cell_type": "code",
   "execution_count": 2,
   "metadata": {},
   "outputs": [
    {
     "name": "stdout",
     "output_type": "stream",
     "text": [
      "Enter your Overall Heat Transfer Coefficient (W/m^2.K): 125\n"
     ]
    }
   ],
   "source": [
    "U=float(input(\"Enter your Overall Heat Transfer Coefficient (W/m^2.K): \"))"
   ]
  },
  {
   "cell_type": "markdown",
   "metadata": {},
   "source": [
    "<ol>\n",
    "<li>The following cell takes input from the excel sheet and a 'for' loop is run over the range of Tmin from 1°C to 100°C with an interval of 1°C. </li> <br>\n",
    "<li>The Problem Table algorithm is generated for each value of Tmin. Based on that, Pinch Temperature, Minimum Heating Required, and Minimum Cooling Required is found out. </li> <br>\n",
    "<li>The following cell also generates Hot Composite Curve and Cold Composite Curve for each value of Tmin. </li> <br> <li>Interpolation is done to get corressponding values of Temperature and Enthalpy wherever slopes of either composite curves changes. </li> <br> <li> This gives us the end temperature points of hot streams and cold streams as well as the Enthalpy Difference. </li> <br> <li> By using LMTD method, we find the area required. Summation is done over all the intervals to get the Total Minimum Area Required. </li> </ol>    "
   ]
  },
  {
   "cell_type": "code",
   "execution_count": 3,
   "metadata": {},
   "outputs": [],
   "source": [
    "input_table=pd.read_excel('Input Sheet.xlsx')\n",
    "input_table[\"Stream Type\"]=np.where(input_table[\"Supply Temperture (°C)\"]>input_table[\"Target Temperature (°C)\"],\"HOT\",\"COLD\")\n",
    "input_table[\"Heat Capacity Flowrate (kW/K)\"]=round(input_table[\"Heat Load (kW)\"]/(input_table[\"Target Temperature (°C)\"]-input_table[\"Supply Temperture (°C)\"]),2)\n",
    "#Heat Capacity Flowrate values of all hot streams have been made negative. This convention will be used later to simplify calculations.\n",
    "index=[]\n",
    "for n in range(1,len(input_table)+1):\n",
    "    index.append(n)\n",
    "input_table[\"Stream Number\"]=index\n",
    "input_table=input_table.set_index('Stream Number')\n",
    "input_table=input_table.rename(columns={\"Supply Temperture (°C)\": \"Ts\", \"Target Temperature (°C)\": \"Tt\", \"Heat Capacity Flowrate (kW/K)\":\"FCp\"})\n",
    "hot_streams=input_table[input_table[\"Stream Type\"]==\"HOT\"]\n",
    "cold_streams=input_table[input_table[\"Stream Type\"]==\"COLD\"]\n",
    "Tmin=np.linspace(1,100,100)\n",
    "minimum_total_area_required_in_m2=[]\n",
    "minimum_hot_utility_required_in_kW=[]\n",
    "minimum_cold_utility_required_in_kW=[]\n",
    "pinch_temperature_in_degC=[]\n",
    "for tmin in Tmin:\n",
    "    temp_left=cold_streams[\"Ts\"].append(cold_streams[\"Tt\"]).append(round((hot_streams[\"Ts\"]-tmin),2)).append(round((hot_streams[\"Tt\"]-tmin),2)).sort_values(ascending=False) \n",
    "    temp_left=list(dict.fromkeys(temp_left)) #this will drop duplicates\n",
    "    temp_right=hot_streams[\"Ts\"].append(hot_streams[\"Tt\"]).append(round((cold_streams[\"Ts\"]+tmin),2)).append(round((cold_streams[\"Tt\"]+tmin),2)).sort_values(ascending=False) \n",
    "    temp_right=list(dict.fromkeys(temp_right)) #this will drop duplicates\n",
    "    problem_table=pd.DataFrame()\n",
    "    problem_table[\"Network\"]=[i for i in range(len(temp_right))]\n",
    "    problem_table[\"Network\"]=problem_table[\"Network\"].astype(str)\n",
    "    problem_table[\"Sub\"]=np.repeat(\"SN\",len(temp_right))\n",
    "    problem_table['Subnetwork'] = problem_table['Sub']+problem_table[\"Network\"]\n",
    "    problem_table=problem_table.drop([\"Sub\",\"Network\"],axis=1)\n",
    "    problem_table[\"Tleft\"]=temp_left\n",
    "    problem_table[\"Tright\"]=temp_right\n",
    "    streams_involved=np.zeros((len(problem_table),len(input_table)+1),dtype='int')\n",
    "    cold_streams_involved_1=np.zeros((len(problem_table),len(input_table)+1),dtype='int')\n",
    "    hot_streams_involved_1=np.zeros((len(problem_table),len(input_table)+1),dtype='int')\n",
    "    for i in range(len(problem_table)):\n",
    "        for j in range(len(cold_streams)):\n",
    "            cold_streams_involved=np.where(cold_streams.iloc[j][\"Ts\"]<=problem_table.iloc[i][\"Tleft\"]<cold_streams.iloc[j][\"Tt\"],cold_streams.iloc[j].name,0)\n",
    "            streams_involved[i][cold_streams_involved]=cold_streams_involved\n",
    "            cold_streams_involved_1[i][cold_streams_involved]=cold_streams_involved\n",
    "        for k in range(len(hot_streams)):\n",
    "            hot_streams_involved=np.where(hot_streams.iloc[k][\"Tt\"]<=problem_table.iloc[i][\"Tright\"]<hot_streams.iloc[k][\"Ts\"],hot_streams.iloc[k].name,0)\n",
    "            streams_involved[i][hot_streams_involved]=hot_streams_involved\n",
    "            hot_streams_involved_1[i][hot_streams_involved]=hot_streams_involved\n",
    "    problem_table[\"Streams Involved\"]=[streams_involved[i] for i in range(len(problem_table))] \n",
    "    difference=[0]\n",
    "    for i in range(1,len(problem_table)):\n",
    "        difference.append(problem_table[\"Tleft\"][i-1]-problem_table[\"Tleft\"][i])\n",
    "    problem_table[\"Temperature Difference\"]=difference\n",
    "    k=np.zeros(len(problem_table))\n",
    "    for i in range(len(problem_table)):\n",
    "        streams=np.extract(problem_table[\"Streams Involved\"][i]!=0, problem_table[\"Streams Involved\"][i]) \n",
    "        sum_1=0\n",
    "        n=len(streams)\n",
    "        for n in range(len(streams)):\n",
    "            sum_1=sum_1+input_table.loc[streams[n]][\"FCp\"] \n",
    "        k[i]=sum_1\n",
    "    problem_table[\"Summation of FCp\"]=k\n",
    "    problem_table[\"Deficit\"]=problem_table[\"Summation of FCp\"]*problem_table[\"Temperature Difference\"]\n",
    "    x=[-problem_table[\"Deficit\"].cumsum()[i-1] for i in range(1,len(problem_table))]\n",
    "    x=np.array(x)\n",
    "    y=[0]\n",
    "    y=np.array(y)\n",
    "    z=np.concatenate((y,x))\n",
    "    problem_table[\"Accumulated Input\"]=z \n",
    "    problem_table[\"Accumulated Output\"]=-problem_table[\"Deficit\"].cumsum() \n",
    "    problem_table[\"Heat Flows Input\"]=abs(problem_table[\"Accumulated Output\"].min())+problem_table[\"Accumulated Input\"] \n",
    "    problem_table[\"Heat Flows Output\"]=abs(problem_table[\"Accumulated Output\"].min())+problem_table[\"Accumulated Output\"]\n",
    "    pinch_temp=problem_table[problem_table[\"Heat Flows Output\"]==0.0][\"Tright\"]\n",
    "    pinch_temp=pinch_temp.values\n",
    "    pinch_temp=pinch_temp[0]\n",
    "    minimum_hot_utility=problem_table.iloc[0][\"Heat Flows Input\"] \n",
    "    minimum_cold_utility=problem_table.iloc[-1][\"Heat Flows Output\"] \n",
    "    hot_composite_curve=pd.DataFrame()\n",
    "    hot_composite_curve[\"Temperature\"]=problem_table[\"Tright\"].values[::-1]\n",
    "    hot_composite_curve[\"Streams Involved\"]=[hot_streams_involved_1[len(hot_streams_involved_1)-i-1] for i in range(len(hot_streams_involved_1))]\n",
    "    k=np.zeros(len(problem_table))\n",
    "    for i in range(len(problem_table)):\n",
    "        streams=np.extract(hot_composite_curve[\"Streams Involved\"][i]!=0, hot_composite_curve[\"Streams Involved\"][i]) \n",
    "        sum_2=0\n",
    "        n=len(streams)\n",
    "        for n in range(len(streams)):\n",
    "            sum_2=sum_2+input_table.loc[streams[n]][\"FCp\"] \n",
    "        k[i]=sum_2\n",
    "    hot_composite_curve[\"Summation of FCp\"]=k\n",
    "    hot_composite_curve[\"Difference\"]=problem_table[\"Temperature Difference\"].values[::-1]\n",
    "    hot_composite_curve[\"Enthalpy not Final\"]=hot_composite_curve[\"Difference\"]*hot_composite_curve[\"Summation of FCp\"]\n",
    "    hot_composite_curve[\"Enthalpy not Final Cumulative\"]=hot_composite_curve[\"Enthalpy not Final\"].cumsum()\n",
    "    final_enthalpy_hot_streams=np.concatenate((0, abs(hot_composite_curve[\"Enthalpy not Final Cumulative\"]).values[:-1]), axis=None)\n",
    "    x=np.array(final_enthalpy_hot_streams,dtype=np.float)\n",
    "    y=np.array(hot_composite_curve[\"Temperature\"],dtype=np.float)\n",
    "    hot_streams; z=hot_streams[\"Ts\"].append(hot_streams[\"Tt\"])\n",
    "    temp_values_of_hot_streams=np.array(z)\n",
    "    hot_composite_curve=pd.DataFrame()\n",
    "    hot_composite_curve[\"Temperature\"]=y\n",
    "    hot_composite_curve[\"Final Enthalpy\"]=x\n",
    "    hot_composite_curve=hot_composite_curve[hot_composite_curve['Temperature'].isin(z)]\n",
    "    cold_composite_curve=pd.DataFrame()\n",
    "    cold_composite_curve[\"Temperature\"]=problem_table[\"Tleft\"].values[::-1]\n",
    "    cold_composite_curve[\"Streams Involved\"]=[cold_streams_involved_1[len(cold_streams_involved_1)-i-1] for i in range(len(cold_streams_involved_1))]\n",
    "    k=np.zeros(len(problem_table))\n",
    "    for i in range(len(problem_table)):\n",
    "        streams=np.extract(cold_composite_curve[\"Streams Involved\"][i]!=0, cold_composite_curve[\"Streams Involved\"][i]) \n",
    "        sum_3=0\n",
    "        n=len(streams)\n",
    "        for n in range(len(streams)):\n",
    "            sum_3=sum_3+input_table.loc[streams[n]][\"FCp\"] \n",
    "        k[i]=sum_3\n",
    "    cold_composite_curve[\"Summation of FCp\"]=k\n",
    "    cold_composite_curve[\"Difference\"]=problem_table[\"Temperature Difference\"].values[::-1]\n",
    "    cold_composite_curve[\"Enthalpy not Final\"]=cold_composite_curve[\"Difference\"]*cold_composite_curve[\"Summation of FCp\"]\n",
    "    cold_composite_curve[\"Enthalpy not Final Cumulative\"]=cold_composite_curve[\"Enthalpy not Final\"].cumsum()\n",
    "    final_enthalpy_cold_streams=np.concatenate((0, abs(cold_composite_curve[\"Enthalpy not Final Cumulative\"]).values[:-1]), axis=None)\n",
    "    a=np.array(final_enthalpy_cold_streams,dtype=np.float)\n",
    "    b=np.array(cold_composite_curve[\"Temperature\"],dtype=np.float)\n",
    "    cold_streams; c=cold_streams[\"Ts\"].append(cold_streams[\"Tt\"])\n",
    "    temp_values_of_cold_streams=np.array(c)\n",
    "    cold_composite_curve=pd.DataFrame()\n",
    "    cold_composite_curve[\"Temperature\"]=b\n",
    "    cold_composite_curve[\"Final Enthalpy\"]=a+minimum_cold_utility\n",
    "    cold_composite_curve=cold_composite_curve[cold_composite_curve['Temperature'].isin(c)]\n",
    "    f = interpolate.interp1d(cold_composite_curve[\"Final Enthalpy\"], cold_composite_curve[\"Temperature\"],bounds_error=False)\n",
    "    g=interpolate.interp1d(hot_composite_curve[\"Final Enthalpy\"], hot_composite_curve[\"Temperature\"],bounds_error=False)\n",
    "    extra_temp_hot=g(cold_composite_curve[\"Final Enthalpy\"]);extra_enthalpy_hot=cold_composite_curve[\"Final Enthalpy\"].to_numpy()\n",
    "    temp={\"Temperature\":extra_temp_hot,\"Final Enthalpy\":extra_enthalpy_hot}\n",
    "    temp2=pd.DataFrame(temp)\n",
    "    hot_composite_duplicate=pd.concat([hot_composite_curve,temp2])\n",
    "    hot_composite_duplicate=hot_composite_duplicate.drop_duplicates()\n",
    "    hot_composite_duplicate=hot_composite_duplicate.sort_values('Final Enthalpy', ascending=True)\n",
    "    hot_composite_duplicate=hot_composite_duplicate.reset_index(drop=True)\n",
    "    extra_temp_cold=f(hot_composite_curve[\"Final Enthalpy\"]);extra_enthalpy_cold=hot_composite_curve[\"Final Enthalpy\"].to_numpy()\n",
    "    temp={\"Temperature\":extra_temp_cold,\"Final Enthalpy\":extra_enthalpy_cold}\n",
    "    temp2=pd.DataFrame(temp)\n",
    "    cold_composite_duplicate=pd.concat([cold_composite_curve,temp2])\n",
    "    cold_composite_duplicate=cold_composite_duplicate.drop_duplicates()\n",
    "    cold_composite_duplicate=cold_composite_duplicate.sort_values('Final Enthalpy', ascending=True)\n",
    "    cold_composite_duplicate=cold_composite_duplicate.reset_index(drop=True)\n",
    "    hot_composite_duplicate = hot_composite_duplicate.rename(columns={'Temperature': 'Temperature of Hot Streams','Final Enthalpy': 'Final Enthalpy of Hot Streams'})\n",
    "    cold_composite_duplicate = cold_composite_duplicate.rename(columns={'Temperature': 'Temperature of Cold Streams','Final Enthalpy':'Final Enthalpy of Cold Streams'})\n",
    "    minimum_area_calculation=pd.concat([hot_composite_duplicate,cold_composite_duplicate],axis=1)\n",
    "    minimum_area_calculation=minimum_area_calculation.drop(['Final Enthalpy of Hot Streams'],axis=1)\n",
    "    minimum_area_calculation=minimum_area_calculation.rename(columns={'Final Enthalpy of Cold Streams':'Final Enthalpy of either streams'})\n",
    "    minimum_area_calculation=minimum_area_calculation.dropna()\n",
    "    minimum_area_calculation=minimum_area_calculation.drop_duplicates(subset='Final Enthalpy of either streams')\n",
    "    summation=[]\n",
    "    for n in range(len(minimum_area_calculation)-1):\n",
    "        deltaTa=minimum_area_calculation[\"Temperature of Hot Streams\"].iloc[n+1]-minimum_area_calculation[\"Temperature of Cold Streams\"].iloc[n+1]\n",
    "        deltaTb=minimum_area_calculation[\"Temperature of Hot Streams\"].iloc[n]-minimum_area_calculation[\"Temperature of Cold Streams\"].iloc[n]\n",
    "        if deltaTa==deltaTb:\n",
    "            LMTD=deltaTa\n",
    "        else:\n",
    "            LMTD=abs(deltaTa-deltaTb)/abs(math.log(abs(deltaTa/deltaTb)))\n",
    "        deltaH=minimum_area_calculation[\"Final Enthalpy of either streams\"].iloc[n+1]-minimum_area_calculation[\"Final Enthalpy of either streams\"].iloc[n]\n",
    "        summation.append(deltaH/LMTD)\n",
    "    final_summation=sum(summation)\n",
    "    minimum_total_area_required_in_m2.append(final_summation*1000/(U))\n",
    "    minimum_hot_utility_required_in_kW.append(minimum_hot_utility)\n",
    "    minimum_cold_utility_required_in_kW.append(minimum_cold_utility)\n",
    "    pinch_temperature_in_degC.append(pinch_temp)"
   ]
  },
  {
   "cell_type": "markdown",
   "metadata": {},
   "source": [
    "<br> Exporting the necessary data into a Pandas DataFrame <br>"
   ]
  },
  {
   "cell_type": "code",
   "execution_count": 4,
   "metadata": {
    "scrolled": true
   },
   "outputs": [],
   "source": [
    "optimize=pd.DataFrame()\n",
    "optimize[\"DeltaTmin\"]=Tmin\n",
    "optimize[\"Pinch Temperature\"]=pinch_temperature_in_degC\n",
    "optimize[\"Ideal Minimum Hot Utility Required\"]=minimum_hot_utility_required_in_kW\n",
    "optimize[\"Ideal Minimum Cold Utility Required\"]=minimum_cold_utility_required_in_kW\n",
    "optimize[\"Ideal Minimum Area Required\"]=minimum_total_area_required_in_m2"
   ]
  },
  {
   "cell_type": "markdown",
   "metadata": {},
   "source": [
    "Code to draw graph of Minimum Area vs Minimum Hot Utility"
   ]
  },
  {
   "cell_type": "code",
   "execution_count": 5,
   "metadata": {},
   "outputs": [
    {
     "data": {
      "image/png": "[encoded data removed]",
      "text/plain": [
       "<Figure size 720x720 with 1 Axes>"
      ]
     },
     "metadata": {
      "needs_background": "light"
     },
     "output_type": "display_data"
    }
   ],
   "source": [
    "plt.figure(figsize=(10,10))\n",
    "plt.ylim(0,optimize[\"Ideal Minimum Hot Utility Required\"].max()+5)\n",
    "plt.xlim(0,optimize[\"Ideal Minimum Area Required\"].max()+5)\n",
    "plt.plot(optimize[\"Ideal Minimum Area Required\"],optimize[\"Ideal Minimum Hot Utility Required\"])\n",
    "plt.xlabel(\"Minimum Hot Utility (kW)\")\n",
    "plt.ylabel(\"Minimum Area (m^2)\")\n",
    "plt.title(\"Minimum Area vs Minimum Hot Utility\",fontsize=20)\n",
    "plt.savefig(\"Minimum Area vs Minimum Hot Utility.png\", dpi=300, bbox_inches=\"tight\")\n",
    "plt.show()"
   ]
  },
  {
   "cell_type": "markdown",
   "metadata": {},
   "source": [
    "Code to draw graph of Minimum Area vs ΔTmin"
   ]
  },
  {
   "cell_type": "code",
   "execution_count": 6,
   "metadata": {},
   "outputs": [
    {
     "data": {
      "image/png": "[encoded data removed]",
      "text/plain": [
       "<Figure size 432x288 with 1 Axes>"
      ]
     },
     "metadata": {
      "needs_background": "light"
     },
     "output_type": "display_data"
    }
   ],
   "source": [
    "plt.xlim(0,105)\n",
    "plt.ylim(0,optimize[\"Ideal Minimum Area Required\"].max()+5)\n",
    "plt.plot(optimize[\"DeltaTmin\"],optimize[\"Ideal Minimum Area Required\"])\n",
    "plt.xlabel(\"ΔTmin (°C)\")\n",
    "plt.ylabel(\"Minimum Area (m^2)\")\n",
    "plt.title(\"Minimum Area vs ΔTmin\")\n",
    "plt.savefig(\"Minimum Area vs ΔTmin.png\", dpi=300, bbox_inches=\"tight\")\n",
    "plt.show()"
   ]
  },
  {
   "cell_type": "markdown",
   "metadata": {},
   "source": [
    "Code to graph of Minimum Utility vs ΔTmin"
   ]
  },
  {
   "cell_type": "code",
   "execution_count": 7,
   "metadata": {},
   "outputs": [
    {
     "data": {
      "image/png": "[encoded data removed]",
      "text/plain": [
       "<Figure size 432x288 with 1 Axes>"
      ]
     },
     "metadata": {
      "needs_background": "light"
     },
     "output_type": "display_data"
    }
   ],
   "source": [
    "plt.ylim(0,1.1*(optimize[\"Ideal Minimum Hot Utility Required\"].max()+optimize[\"Ideal Minimum Cold Utility Required\"].max()))\n",
    "plt.xlim(0,110)\n",
    "plt.plot(optimize[\"DeltaTmin\"],optimize[\"Ideal Minimum Hot Utility Required\"],color='red',label='Minimum Hot Utility Required')\n",
    "plt.plot(optimize[\"DeltaTmin\"],optimize[\"Ideal Minimum Cold Utility Required\"],color='blue',label='Minimum Cold Utility Required')\n",
    "plt.plot(optimize[\"DeltaTmin\"],optimize[\"Ideal Minimum Cold Utility Required\"]+optimize[\"Ideal Minimum Hot Utility Required\"],color='black',label='Total Minimum Utility Required')\n",
    "plt.xlabel(\"ΔTmin (°C)\")\n",
    "plt.ylabel(\"Minimum Utility (kW)\")\n",
    "plt.title(\"Minimum Utility vs ΔTmin\")\n",
    "plt.legend()\n",
    "plt.savefig(\"Minimum Utility vs ΔTmin.png\", dpi=300, bbox_inches=\"tight\")\n",
    "plt.show()"
   ]
  },
  {
   "cell_type": "markdown",
   "metadata": {},
   "source": [
    "Renaming the columns of Pandas DataFrame to include units in final output"
   ]
  },
  {
   "cell_type": "code",
   "execution_count": 8,
   "metadata": {},
   "outputs": [],
   "source": [
    "optimize=optimize.rename(columns={\"DeltaTmin\":\"ΔTmin (°C)\",\"Pinch Temperature\":\"Pinch Temperature (°C)\",\"Ideal Minimum Hot Utility Required\":\"Ideal Minimum Heating Required (kW)\",\"Ideal Minimum Cold Utility Required\":\"Ideal Minimum Cooling Required (kW)\",\n",
    "                \"Ideal Minimum Area Required\":\"Ideal Minimum Area Required (m^2)\"})"
   ]
  },
  {
   "cell_type": "markdown",
   "metadata": {},
   "source": [
    "The final Pandas DataFrame"
   ]
  },
  {
   "cell_type": "code",
   "execution_count": 9,
   "metadata": {},
   "outputs": [
    {
     "data": {
      "text/html": [
       "<div>\n",
       "<style scoped>\n",
       "    .dataframe tbody tr th:only-of-type {\n",
       "        vertical-align: middle;\n",
       "    }\n",
       "\n",
       "    .dataframe tbody tr th {\n",
       "        vertical-align: top;\n",
       "    }\n",
       "\n",
       "    .dataframe thead th {\n",
       "        text-align: right;\n",
       "    }\n",
       "</style>\n",
       "<table border=\"1\" class=\"dataframe\">\n",
       "  <thead>\n",
       "    <tr style=\"text-align: right;\">\n",
       "      <th></th>\n",
       "      <th>ΔTmin (°C)</th>\n",
       "      <th>Pinch Temperature (°C)</th>\n",
       "      <th>Ideal Minimum Heating Required (kW)</th>\n",
       "      <th>Ideal Minimum Cooling Required (kW)</th>\n",
       "      <th>Ideal Minimum Area Required (m^2)</th>\n",
       "    </tr>\n",
       "  </thead>\n",
       "  <tbody>\n",
       "    <tr>\n",
       "      <th>0</th>\n",
       "      <td>1.0</td>\n",
       "      <td>170.0</td>\n",
       "      <td>0.0</td>\n",
       "      <td>0.0</td>\n",
       "      <td>77.278764</td>\n",
       "    </tr>\n",
       "    <tr>\n",
       "      <th>1</th>\n",
       "      <td>2.0</td>\n",
       "      <td>170.0</td>\n",
       "      <td>0.0</td>\n",
       "      <td>0.0</td>\n",
       "      <td>77.278764</td>\n",
       "    </tr>\n",
       "    <tr>\n",
       "      <th>2</th>\n",
       "      <td>3.0</td>\n",
       "      <td>170.0</td>\n",
       "      <td>0.0</td>\n",
       "      <td>0.0</td>\n",
       "      <td>77.278764</td>\n",
       "    </tr>\n",
       "    <tr>\n",
       "      <th>3</th>\n",
       "      <td>4.0</td>\n",
       "      <td>170.0</td>\n",
       "      <td>0.0</td>\n",
       "      <td>0.0</td>\n",
       "      <td>77.278764</td>\n",
       "    </tr>\n",
       "    <tr>\n",
       "      <th>4</th>\n",
       "      <td>5.0</td>\n",
       "      <td>170.0</td>\n",
       "      <td>0.0</td>\n",
       "      <td>0.0</td>\n",
       "      <td>77.278764</td>\n",
       "    </tr>\n",
       "    <tr>\n",
       "      <th>...</th>\n",
       "      <td>...</td>\n",
       "      <td>...</td>\n",
       "      <td>...</td>\n",
       "      <td>...</td>\n",
       "      <td>...</td>\n",
       "    </tr>\n",
       "    <tr>\n",
       "      <th>95</th>\n",
       "      <td>96.0</td>\n",
       "      <td>176.0</td>\n",
       "      <td>240.0</td>\n",
       "      <td>240.0</td>\n",
       "      <td>0.000000</td>\n",
       "    </tr>\n",
       "    <tr>\n",
       "      <th>96</th>\n",
       "      <td>97.0</td>\n",
       "      <td>177.0</td>\n",
       "      <td>240.0</td>\n",
       "      <td>240.0</td>\n",
       "      <td>0.000000</td>\n",
       "    </tr>\n",
       "    <tr>\n",
       "      <th>97</th>\n",
       "      <td>98.0</td>\n",
       "      <td>178.0</td>\n",
       "      <td>240.0</td>\n",
       "      <td>240.0</td>\n",
       "      <td>0.000000</td>\n",
       "    </tr>\n",
       "    <tr>\n",
       "      <th>98</th>\n",
       "      <td>99.0</td>\n",
       "      <td>179.0</td>\n",
       "      <td>240.0</td>\n",
       "      <td>240.0</td>\n",
       "      <td>0.000000</td>\n",
       "    </tr>\n",
       "    <tr>\n",
       "      <th>99</th>\n",
       "      <td>100.0</td>\n",
       "      <td>180.0</td>\n",
       "      <td>240.0</td>\n",
       "      <td>240.0</td>\n",
       "      <td>0.000000</td>\n",
       "    </tr>\n",
       "  </tbody>\n",
       "</table>\n",
       "<p>100 rows × 5 columns</p>\n",
       "</div>"
      ],
      "text/plain": [
       "    ΔTmin (°C)  Pinch Temperature (°C)  Ideal Minimum Heating Required (kW)  \\\n",
       "0          1.0                   170.0                                  0.0   \n",
       "1          2.0                   170.0                                  0.0   \n",
       "2          3.0                   170.0                                  0.0   \n",
       "3          4.0                   170.0                                  0.0   \n",
       "4          5.0                   170.0                                  0.0   \n",
       "..         ...                     ...                                  ...   \n",
       "95        96.0                   176.0                                240.0   \n",
       "96        97.0                   177.0                                240.0   \n",
       "97        98.0                   178.0                                240.0   \n",
       "98        99.0                   179.0                                240.0   \n",
       "99       100.0                   180.0                                240.0   \n",
       "\n",
       "    Ideal Minimum Cooling Required (kW)  Ideal Minimum Area Required (m^2)  \n",
       "0                                   0.0                          77.278764  \n",
       "1                                   0.0                          77.278764  \n",
       "2                                   0.0                          77.278764  \n",
       "3                                   0.0                          77.278764  \n",
       "4                                   0.0                          77.278764  \n",
       "..                                  ...                                ...  \n",
       "95                                240.0                           0.000000  \n",
       "96                                240.0                           0.000000  \n",
       "97                                240.0                           0.000000  \n",
       "98                                240.0                           0.000000  \n",
       "99                                240.0                           0.000000  \n",
       "\n",
       "[100 rows x 5 columns]"
      ]
     },
     "execution_count": 9,
     "metadata": {},
     "output_type": "execute_result"
    }
   ],
   "source": [
    "optimize"
   ]
  },
  {
   "cell_type": "markdown",
   "metadata": {},
   "source": [
    "Exporting the Pandas Dataframe to an Excel Sheet"
   ]
  },
  {
   "cell_type": "code",
   "execution_count": 10,
   "metadata": {},
   "outputs": [],
   "source": [
    "writer = pd.ExcelWriter('Optimization of ΔTmin.xlsx',engine='xlsxwriter')   \n",
    "workbook=writer.book\n",
    "worksheet=workbook.add_worksheet('Sheet 1')\n",
    "writer.sheets['Sheet 1'] = worksheet\n",
    "optimize.to_excel(writer,sheet_name='Sheet 1',startrow=0 , startcol=0)   \n",
    "writer.save()"
   ]
  }
 ],
 "metadata": {
  "kernelspec": {
   "display_name": "Python 3",
   "language": "python",
   "name": "python3"
  },
  "language_info": {
   "codemirror_mode": {
    "name": "ipython",
    "version": 3
   },
   "file_extension": ".py",
   "mimetype": "text/x-python",
   "name": "python",
   "nbconvert_exporter": "python",
   "pygments_lexer": "ipython3",
   "version": "3.8.3"
  }
 },
 "nbformat": 4,
 "nbformat_minor": 2
}
